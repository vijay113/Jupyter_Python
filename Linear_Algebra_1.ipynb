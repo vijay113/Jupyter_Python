{
 "cells": [
  {
   "cell_type": "code",
   "execution_count": 1,
   "id": "ec38b267",
   "metadata": {},
   "outputs": [],
   "source": [
    "import numpy as np"
   ]
  },
  {
   "cell_type": "code",
   "execution_count": 2,
   "id": "d4532df8",
   "metadata": {},
   "outputs": [
    {
     "name": "stdout",
     "output_type": "stream",
     "text": [
      "(1, 6)\n",
      "(5, 1)\n"
     ]
    }
   ],
   "source": [
    "vector_row = np.array([[1,2,3,4,5,6]])\n",
    "vector_col = np.array([[1],[2],[3],[4],[5]])\n",
    "\n",
    "print(vector_row.shape)\n",
    "print(vector_col.shape)"
   ]
  },
  {
   "cell_type": "code",
   "execution_count": 3,
   "id": "f3e8003a",
   "metadata": {},
   "outputs": [
    {
     "name": "stdout",
     "output_type": "stream",
     "text": [
      "[[1]\n",
      " [2]\n",
      " [3]\n",
      " [4]\n",
      " [5]\n",
      " [6]]\n"
     ]
    }
   ],
   "source": [
    "# Transpose the vector\n",
    "\n",
    "from numpy.linalg import norm\n",
    "\n",
    "new_vector = vector_row.T\n",
    "print(new_vector)"
   ]
  },
  {
   "cell_type": "code",
   "execution_count": 4,
   "id": "2fe666d9",
   "metadata": {},
   "outputs": [],
   "source": [
    "norm_1 = norm(new_vector,1)"
   ]
  },
  {
   "cell_type": "code",
   "execution_count": 5,
   "id": "5d60ce52",
   "metadata": {},
   "outputs": [
    {
     "name": "stdout",
     "output_type": "stream",
     "text": [
      "L_1 is: 21.0\n",
      "L_2 is: 9.5\n",
      "L_3 is:6.0\n"
     ]
    }
   ],
   "source": [
    "#The norm of a vector is a measure of its length\n",
    "norm_2 = norm(new_vector,2)\n",
    "norm_inf = norm(new_vector,np.inf)\n",
    "\n",
    "print(\"L_1 is: %0.1f\"%norm_1)\n",
    "print(\"L_2 is: %0.1f\"%norm_2)\n",
    "print(\"L_3 is:%0.1f\"%norm_inf)"
   ]
  },
  {
   "cell_type": "code",
   "execution_count": 9,
   "id": "f97256d3",
   "metadata": {},
   "outputs": [
    {
     "name": "stdout",
     "output_type": "stream",
     "text": [
      "[[0.97992471]]\n"
     ]
    }
   ],
   "source": [
    "# Dot Product of Vectors  (v.w)\n",
    "\n",
    "from numpy import arccos, dot\n",
    "\n",
    "v = np.array([[10,9,3]])\n",
    "w = np.array([[2,5,12]])\n",
    "theta = arccos(dot(v,w.T)/(norm(v)*norm(w)))\n",
    "print(theta)"
   ]
  },
  {
   "cell_type": "code",
   "execution_count": 10,
   "id": "7d3285db",
   "metadata": {},
   "outputs": [
    {
     "name": "stdout",
     "output_type": "stream",
     "text": [
      "[[ 0  0 -6]]\n"
     ]
    }
   ],
   "source": [
    "# Cross Product of vectors (v X w)\n",
    "# The geometric interpretation of the cross product is a vector perpendicular to both v and w with length equal to the area enclosed by the parallelogram created by the two vectors.\n",
    "\n",
    "v = np.array([[0,2,0]])\n",
    "w = np.array([[3,0,0]])\n",
    "print(np.cross(v,w))\n",
    "\n"
   ]
  },
  {
   "cell_type": "code",
   "execution_count": 11,
   "id": "25b05d0c",
   "metadata": {},
   "outputs": [
    {
     "name": "stdout",
     "output_type": "stream",
     "text": [
      "[[-8 -1  4]]\n"
     ]
    }
   ],
   "source": [
    "# Linear Combinations of Vector\n",
    "\n",
    "v = np.array([[0,3,2]])\n",
    "w = np.array([[4,1,1]])\n",
    "u = np.array([[0,-2,0]])\n",
    "X = 3*v-2*w+4*u\n",
    "print(X)"
   ]
  },
  {
   "cell_type": "code",
   "execution_count": 13,
   "id": "004fc7bc",
   "metadata": {},
   "outputs": [
    {
     "name": "stdout",
     "output_type": "stream",
     "text": [
      "[[1 7]\n",
      " [2 3]\n",
      " [5 0]]\n",
      "[[2 6 3 1]\n",
      " [1 2 3 4]]\n",
      "[[ 9 20 24 29]\n",
      " [ 7 18 15 14]\n",
      " [10 30 15  5]]\n"
     ]
    }
   ],
   "source": [
    "# Matrix - Dot Product\n",
    "\n",
    "P = np.array([[1,7],[2,3],[5,0]])\n",
    "Q = np.array([[2,6,3,1],[1,2,3,4]])\n",
    "print(P)\n",
    "print(Q)\n",
    "print(np.dot(P,Q))\n",
    "#np.dot(Q,P)"
   ]
  },
  {
   "cell_type": "code",
   "execution_count": 14,
   "id": "a07083c8",
   "metadata": {},
   "outputs": [
    {
     "name": "stdout",
     "output_type": "stream",
     "text": [
      "[[0 2 1 3]\n",
      " [3 2 8 1]\n",
      " [1 0 0 3]\n",
      " [0 3 2 1]]\n",
      "Determinant: -38.0\n",
      "I: [[1. 0. 0. 0.]\n",
      " [0. 1. 0. 0.]\n",
      " [0. 0. 1. 0.]\n",
      " [0. 0. 0. 1.]]\n",
      "M*I:\n",
      " [[0. 2. 1. 3.]\n",
      " [3. 2. 8. 1.]\n",
      " [1. 0. 0. 3.]\n",
      " [0. 3. 2. 1.]]\n"
     ]
    }
   ],
   "source": [
    "# Square matrix - determinant = |M|= ad-bc\n",
    "\n",
    "from numpy.linalg import det\n",
    "\n",
    "M = np.array([[0,2,1,3],[3,2,8,1],[1,0,0,3],[0,3,2,1]])\n",
    "\n",
    "print(M)\n",
    "\n",
    "print(\"Determinant: %0.1f\"%det(M))\n",
    "I = np.eye(4)\n",
    "\n",
    "print(\"I:\",I)\n",
    "print(\"M*I:\\n\",np.dot(M,I))\n"
   ]
  },
  {
   "cell_type": "code",
   "execution_count": 15,
   "id": "4e76b189",
   "metadata": {},
   "outputs": [
    {
     "name": "stdout",
     "output_type": "stream",
     "text": [
      "Inverse of M:\n",
      " [[-1.57894737 -0.07894737  1.23684211  1.10526316]\n",
      " [-0.63157895 -0.13157895  0.39473684  0.84210526]\n",
      " [ 0.68421053  0.18421053 -0.55263158 -0.57894737]\n",
      " [ 0.52631579  0.02631579 -0.07894737 -0.36842105]]\n",
      "determinant of P: 0.0\n"
     ]
    }
   ],
   "source": [
    "# inverse of Matrix ==> M.N = I\n",
    "# there are matrices that do not have inverses. These matrices are called singular. Matrices that do have an inverse are called nonsingular.\n",
    "# If the determinant is 0, then the matrix is singular; if not, the matrix is nonsingular.\n",
    "\n",
    "from numpy.linalg import inv\n",
    "\n",
    "print(\"Inverse of M:\\n\",inv(M))\n",
    "\n",
    "P = np.array([[0,1,0],[0,0,0],[1,0,1]])\n",
    "\n",
    "print(\"determinant of P:\",det(P))\n",
    "\n"
   ]
  },
  {
   "cell_type": "code",
   "execution_count": 16,
   "id": "6361141b",
   "metadata": {},
   "outputs": [
    {
     "name": "stdout",
     "output_type": "stream",
     "text": [
      "Condition number : \n",
      " 4.048917339522305\n",
      "Rank:\n",
      " 3\n",
      "Augmented matrix:\n",
      " [[1 1 0 1]\n",
      " [0 1 0 2]\n",
      " [1 0 1 1]]\n"
     ]
    }
   ],
   "source": [
    "# Rank Of Matrix: The rank. of an m×n matrix A is the number of linearly independent columns or rows of A, and is denoted by rank(A).\n",
    "# A matrix is called full rank. if rank (A)=min(m,n).\n",
    "# Augmented Matrix ==> [A,y]\n",
    "# rank([A,y]) = rank(A) + 1\n",
    "\n",
    "from numpy.linalg import cond, matrix_rank\n",
    "\n",
    "A = np.array([[1,1,0],[0,1,0],[1,0,1]])\n",
    "\n",
    "print(\"Condition number : \\n\", cond(A))\n",
    "\n",
    "print(\"Rank:\\n\",matrix_rank(A))\n",
    "y = np.array([[1],[2],[1]])\n",
    "A_y = np.concatenate((A,y),axis=1)\n",
    "print(\"Augmented matrix:\\n\",A_y)\n"
   ]
  },
  {
   "cell_type": "code",
   "execution_count": 17,
   "id": "d5382a46",
   "metadata": {},
   "outputs": [
    {
     "name": "stdout",
     "output_type": "stream",
     "text": [
      "LU= [[ 4.  3. -5.]\n",
      " [-2. -4.  5.]\n",
      " [ 8.  8.  0.]]\n"
     ]
    }
   ],
   "source": [
    "\n",
    "u = np.array([[4,3,-5],\n",
    "             [0,-2.5,2.5],\n",
    "              [0,0,12]])\n",
    "l = np.array([[1,0,0],[-0.5,1,0],[2,-0.8,1]])\n",
    "\n",
    "print(\"LU=\",np.dot(l,u))\n"
   ]
  },
  {
   "cell_type": "code",
   "execution_count": 18,
   "id": "9329f49c",
   "metadata": {},
   "outputs": [
    {
     "name": "stdout",
     "output_type": "stream",
     "text": [
      "matrix is diagonally dominant\n"
     ]
    }
   ],
   "source": [
    "# Gauss - Seidel Method\n",
    "\n",
    "a = [[8,3,-3],[-2,-8,5],[3,5,10]]\n",
    "\n",
    "# find diagonal coefficients\n",
    "diag = np.diag(np.abs(a))\n",
    "\n",
    "# find row sum without diagonal\n",
    "off_diag = np.sum(np.abs(a),axis = 1) - diag\n",
    "\n",
    "if np.all(diag > off_diag):\n",
    "    print(\"matrix is diagonally dominant\")\n",
    "else:\n",
    "    print(\"Not Diagonally dominant\")"
   ]
  },
  {
   "cell_type": "code",
   "execution_count": 19,
   "id": "762fc0cc",
   "metadata": {},
   "outputs": [
    {
     "name": "stdout",
     "output_type": "stream",
     "text": [
      "X_old: [0 0 0]\n",
      "Iteration results:\n",
      " k,    x1,    x2,    x3 \n",
      "1, 1.7500, -1.0625, 1.5875\n",
      "2, 2.7437, -0.3188, 2.9275\n",
      "3, 2.9673, 0.4629, 3.8433\n",
      "4, 3.0177, 1.0226, 4.4332\n",
      "5, 3.0290, 1.3885, 4.8059\n",
      "6, 3.0315, 1.6208, 5.0397\n",
      "7, 3.0321, 1.7668, 5.1861\n",
      "8, 3.0322, 1.8582, 5.2776\n",
      "9, 3.0322, 1.9154, 5.3348\n",
      "10, 3.0323, 1.9512, 5.3705\n",
      "11, 3.0323, 1.9735, 5.3929\n",
      "12, 3.0323, 1.9875, 5.4068\n",
      "13, 3.0323, 1.9962, 5.4156\n",
      "14, 3.0323, 2.0017, 5.4210\n",
      "Converged!\n"
     ]
    }
   ],
   "source": [
    "x1 = 0\n",
    "x2 = 0\n",
    "x3 = 0\n",
    "epsilon = 0.01\n",
    "converged = False\n",
    "\n",
    "x_old = np.array([x1,x2,x3])\n",
    "print(\"X_old:\",x_old)\n",
    "\n",
    "print(\"Iteration results:\")\n",
    "print(' k,    x1,    x2,    x3 ')\n",
    "for k in range(1, 50):\n",
    "    x1 = (14-3*x2+3*x3)/8\n",
    "    x2 = (5+2*x1-5*x3)/(-8)\n",
    "    x3 = (-8-3*x1-5*x2)/(-5)\n",
    "    x = np.array([x1, x2, x3])\n",
    "    # check if it is smaller than threshold\n",
    "    dx = np.sqrt(np.dot(x-x_old, x-x_old))\n",
    "    \n",
    "    print(\"%d, %.4f, %.4f, %.4f\"%(k, x1, x2, x3))\n",
    "    if dx < epsilon:\n",
    "        converged = True\n",
    "        print('Converged!')\n",
    "        break\n",
    "        \n",
    "    # assign the latest x value to the old value\n",
    "    x_old = x\n",
    "\n",
    "if not converged:\n",
    "    print('Not converge, increase the # of iterations')"
   ]
  },
  {
   "cell_type": "code",
   "execution_count": 20,
   "id": "8b2919dd",
   "metadata": {},
   "outputs": [
    {
     "name": "stdout",
     "output_type": "stream",
     "text": [
      "[ 2.20833333 -2.58333333 -0.18333333]\n"
     ]
    }
   ],
   "source": [
    "#Use numpy.linalg.solve to solve the following equations.\n",
    "\n",
    "# 4x1+3x2−5x3 = 2\n",
    "# −2x1−4x2+5x3 = 5\n",
    "#  8x1+8x2 = −3\n",
    "\n",
    "A = np.array([[4,3,-5],\n",
    "            [-2,-4,5],\n",
    "            [8,8,0]])\n",
    "y = np.array([2,5,-3])\n",
    "\n",
    "x = np.linalg.solve(A,y)\n",
    "\n",
    "print(x)"
   ]
  },
  {
   "cell_type": "code",
   "execution_count": 21,
   "id": "f4d868ac",
   "metadata": {},
   "outputs": [
    {
     "name": "stdout",
     "output_type": "stream",
     "text": [
      "A:\n",
      " [[ 4  3 -5]\n",
      " [-2 -4  5]\n",
      " [ 8  8  0]]\n",
      "inverse of A:\n",
      " [[ 0.33333333  0.33333333  0.04166667]\n",
      " [-0.33333333 -0.33333333  0.08333333]\n",
      " [-0.13333333  0.06666667  0.08333333]]\n",
      "[ 2.20833333 -2.58333333 -0.18333333]\n"
     ]
    }
   ],
   "source": [
    "A_inv = np.linalg.inv(A)\n",
    "\n",
    "print(\"A:\\n\",A)\n",
    "\n",
    "print(\"inverse of A:\\n\",A_inv)\n",
    "\n",
    "x = np.dot(A_inv,y)\n",
    "\n",
    "print(x)"
   ]
  },
  {
   "cell_type": "code",
   "execution_count": 22,
   "id": "7a429460",
   "metadata": {},
   "outputs": [
    {
     "name": "stdout",
     "output_type": "stream",
     "text": [
      "A:\n",
      " [[ 4  3 -5]\n",
      " [-2 -4  5]\n",
      " [ 8  8  0]]\n",
      "P:\n",
      " [[0. 0. 1.]\n",
      " [0. 1. 0.]\n",
      " [1. 0. 0.]]\n",
      "L:\n",
      " [[ 1.    0.    0.  ]\n",
      " [-0.25  1.    0.  ]\n",
      " [ 0.5   0.5   1.  ]]\n",
      "U:\n",
      " [[ 8.   8.   0. ]\n",
      " [ 0.  -2.   5. ]\n",
      " [ 0.   0.  -7.5]]\n",
      "LU:\n",
      " [[ 8.  8.  0.]\n",
      " [-2. -4.  5.]\n",
      " [ 4.  3. -5.]]\n"
     ]
    }
   ],
   "source": [
    "from scipy.linalg import lu\n",
    "print(\"A:\\n\",A)\n",
    "\n",
    "P,L,U = lu(A)\n",
    "\n",
    "print(\"P:\\n\",P)\n",
    "print(\"L:\\n\",L)\n",
    "print(\"U:\\n\",U)\n",
    "print(\"LU:\\n\",np.dot(L,U))\n",
    "\n"
   ]
  },
  {
   "cell_type": "code",
   "execution_count": 23,
   "id": "0f6acd12",
   "metadata": {},
   "outputs": [
    {
     "name": "stdout",
     "output_type": "stream",
     "text": [
      "P.A:\n",
      " [[ 8.  8.  0.]\n",
      " [-2. -4.  5.]\n",
      " [ 4.  3. -5.]]\n"
     ]
    }
   ],
   "source": [
    "print(\"P.A:\\n\",np.dot(P,A))"
   ]
  },
  {
   "cell_type": "code",
   "execution_count": null,
   "id": "9f3cdbb2",
   "metadata": {},
   "outputs": [],
   "source": [
    "########################### Thanks ###########################"
   ]
  }
 ],
 "metadata": {
  "kernelspec": {
   "display_name": "Python 3",
   "language": "python",
   "name": "python3"
  },
  "language_info": {
   "codemirror_mode": {
    "name": "ipython",
    "version": 3
   },
   "file_extension": ".py",
   "mimetype": "text/x-python",
   "name": "python",
   "nbconvert_exporter": "python",
   "pygments_lexer": "ipython3",
   "version": "3.8.8"
  }
 },
 "nbformat": 4,
 "nbformat_minor": 5
}
