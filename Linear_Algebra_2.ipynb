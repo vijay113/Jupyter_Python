{
 "cells": [
  {
   "cell_type": "code",
   "execution_count": 1,
   "id": "35762f50",
   "metadata": {},
   "outputs": [],
   "source": [
    "import numpy as np"
   ]
  },
  {
   "cell_type": "code",
   "execution_count": 2,
   "id": "0ec8e173",
   "metadata": {},
   "outputs": [
    {
     "data": {
      "text/plain": [
       "[1, 2, 3, 4]"
      ]
     },
     "execution_count": 2,
     "metadata": {},
     "output_type": "execute_result"
    }
   ],
   "source": [
    "numlist = [1,2,3,4]\n",
    "numlist"
   ]
  },
  {
   "cell_type": "code",
   "execution_count": 3,
   "id": "d80d6c3b",
   "metadata": {},
   "outputs": [
    {
     "data": {
      "text/plain": [
       "2.5"
      ]
     },
     "execution_count": 3,
     "metadata": {},
     "output_type": "execute_result"
    }
   ],
   "source": [
    "np.mean(numlist)"
   ]
  },
  {
   "cell_type": "code",
   "execution_count": 4,
   "id": "a2a94600",
   "metadata": {},
   "outputs": [
    {
     "data": {
      "text/plain": [
       "2.0"
      ]
     },
     "execution_count": 4,
     "metadata": {},
     "output_type": "execute_result"
    }
   ],
   "source": [
    "np.sqrt(numlist[3])"
   ]
  },
  {
   "cell_type": "code",
   "execution_count": 5,
   "id": "0724bb36",
   "metadata": {},
   "outputs": [
    {
     "data": {
      "text/plain": [
       "array([ 1.        ,  1.18367347,  1.36734694,  1.55102041,  1.73469388,\n",
       "        1.91836735,  2.10204082,  2.28571429,  2.46938776,  2.65306122,\n",
       "        2.83673469,  3.02040816,  3.20408163,  3.3877551 ,  3.57142857,\n",
       "        3.75510204,  3.93877551,  4.12244898,  4.30612245,  4.48979592,\n",
       "        4.67346939,  4.85714286,  5.04081633,  5.2244898 ,  5.40816327,\n",
       "        5.59183673,  5.7755102 ,  5.95918367,  6.14285714,  6.32653061,\n",
       "        6.51020408,  6.69387755,  6.87755102,  7.06122449,  7.24489796,\n",
       "        7.42857143,  7.6122449 ,  7.79591837,  7.97959184,  8.16326531,\n",
       "        8.34693878,  8.53061224,  8.71428571,  8.89795918,  9.08163265,\n",
       "        9.26530612,  9.44897959,  9.63265306,  9.81632653, 10.        ])"
      ]
     },
     "execution_count": 5,
     "metadata": {},
     "output_type": "execute_result"
    }
   ],
   "source": [
    "np.linspace(1,10)"
   ]
  },
  {
   "cell_type": "code",
   "execution_count": 7,
   "id": "18b23bce",
   "metadata": {},
   "outputs": [
    {
     "data": {
      "text/plain": [
       "array([ 1.  ,  3.25,  5.5 ,  7.75, 10.  ])"
      ]
     },
     "execution_count": 7,
     "metadata": {},
     "output_type": "execute_result"
    }
   ],
   "source": [
    "np.linspace(1,10,5)"
   ]
  },
  {
   "cell_type": "code",
   "execution_count": 8,
   "id": "e33c391e",
   "metadata": {},
   "outputs": [],
   "source": [
    "##############################"
   ]
  },
  {
   "cell_type": "code",
   "execution_count": 9,
   "id": "3979e06e",
   "metadata": {},
   "outputs": [],
   "source": [
    "import matplotlib.pyplot as plt\n"
   ]
  },
  {
   "cell_type": "code",
   "execution_count": 10,
   "id": "943ac432",
   "metadata": {},
   "outputs": [
    {
     "data": {
      "text/plain": [
       "[<matplotlib.lines.Line2D at 0x1b1b1604ac0>]"
      ]
     },
     "execution_count": 10,
     "metadata": {},
     "output_type": "execute_result"
    },
    {
     "data": {
      "image/png": "[encoded data removed]",
      "text/plain": [
       "<Figure size 432x288 with 1 Axes>"
      ]
     },
     "metadata": {
      "needs_background": "light"
     },
     "output_type": "display_data"
    }
   ],
   "source": [
    "plt.plot(1,3,\"ro\")"
   ]
  },
  {
   "cell_type": "code",
   "execution_count": 11,
   "id": "9b2afdf5",
   "metadata": {},
   "outputs": [
    {
     "data": {
      "text/plain": [
       "array([-9, -8, -7, -6, -5, -4, -3, -2, -1,  0,  1,  2,  3,  4,  5,  6,  7,\n",
       "        8,  9])"
      ]
     },
     "execution_count": 11,
     "metadata": {},
     "output_type": "execute_result"
    }
   ],
   "source": [
    "x = np.arange(-9,10)\n",
    "x"
   ]
  },
  {
   "cell_type": "code",
   "execution_count": 12,
   "id": "23a60987",
   "metadata": {},
   "outputs": [
    {
     "data": {
      "text/plain": [
       "array([81, 64, 49, 36, 25, 16,  9,  4,  1,  0,  1,  4,  9, 16, 25, 36, 49,\n",
       "       64, 81], dtype=int32)"
      ]
     },
     "execution_count": 12,
     "metadata": {},
     "output_type": "execute_result"
    }
   ],
   "source": [
    "y = x**2\n",
    "y"
   ]
  },
  {
   "cell_type": "code",
   "execution_count": 15,
   "id": "2f790005",
   "metadata": {},
   "outputs": [
    {
     "data": {
      "image/png": "[encoded data removed]",
      "text/plain": [
       "<Figure size 432x288 with 1 Axes>"
      ]
     },
     "metadata": {
      "needs_background": "light"
     },
     "output_type": "display_data"
    }
   ],
   "source": [
    "plt.plot(x,y,\"r\")\n",
    "plt.plot(x,y/2,\"g\")\n",
    "plt.show()"
   ]
  },
  {
   "cell_type": "code",
   "execution_count": 16,
   "id": "7b98c945",
   "metadata": {},
   "outputs": [
    {
     "data": {
      "text/plain": [
       "array([[7, 8, 6, 7, 9],\n",
       "       [3, 2, 1, 5, 4],\n",
       "       [1, 8, 0, 2, 6],\n",
       "       [4, 8, 7, 5, 4]])"
      ]
     },
     "execution_count": 16,
     "metadata": {},
     "output_type": "execute_result"
    }
   ],
   "source": [
    "M = np.random.randint(0,10,size=(4,5))\n",
    "M"
   ]
  },
  {
   "cell_type": "code",
   "execution_count": 17,
   "id": "56d5923c",
   "metadata": {},
   "outputs": [
    {
     "data": {
      "image/png": "[encoded data removed]",
      "text/plain": [
       "<Figure size 432x288 with 1 Axes>"
      ]
     },
     "metadata": {
      "needs_background": "light"
     },
     "output_type": "display_data"
    }
   ],
   "source": [
    "plt.imshow(M)\n",
    "plt.show()"
   ]
  },
  {
   "cell_type": "code",
   "execution_count": 18,
   "id": "c9654b2e",
   "metadata": {},
   "outputs": [
    {
     "data": {
      "text/plain": [
       "[3, 4, 5, 2, 3, 4, 5, 2]"
      ]
     },
     "execution_count": 18,
     "metadata": {},
     "output_type": "execute_result"
    }
   ],
   "source": [
    "vector = [3,4,5,2]\n",
    "s = 2\n",
    "vector*s"
   ]
  },
  {
   "cell_type": "code",
   "execution_count": 19,
   "id": "eca74769",
   "metadata": {},
   "outputs": [
    {
     "data": {
      "text/plain": [
       "array([ 6,  8, 10,  4])"
      ]
     },
     "execution_count": 19,
     "metadata": {},
     "output_type": "execute_result"
    }
   ],
   "source": [
    "vec = np.array([3,4,5,2])\n",
    "s = 2\n",
    "vec * s"
   ]
  },
  {
   "cell_type": "code",
   "execution_count": 24,
   "id": "fd26191b",
   "metadata": {},
   "outputs": [
    {
     "name": "stderr",
     "output_type": "stream",
     "text": [
      "No handles with labels found to put in legend.\n"
     ]
    },
    {
     "data": {
      "image/png": "[encoded data removed]",
      "text/plain": [
       "<Figure size 432x288 with 1 Axes>"
      ]
     },
     "metadata": {
      "needs_background": "light"
     },
     "output_type": "display_data"
    }
   ],
   "source": [
    "vec2d = np.array([1,2])\n",
    "s1=2\n",
    "s2 = .5\n",
    "s3 = -1\n",
    "\n",
    "plt.plot([0,vec2d[0]],[0,vec2d[1]],\"bs-\")\n",
    "plt.axis(\"square\")\n",
    "plt.xlim(-2,2)\n",
    "plt.ylim(-2,2)\n",
    "plt.grid()\n",
    "#plt.legend()\n",
    "plt.show()"
   ]
  },
  {
   "cell_type": "code",
   "execution_count": 25,
   "id": "284c87ca",
   "metadata": {},
   "outputs": [],
   "source": [
    "##########################################################"
   ]
  },
  {
   "cell_type": "code",
   "execution_count": 33,
   "id": "fa5d448f",
   "metadata": {},
   "outputs": [
    {
     "data": {
      "text/plain": [
       "array([25])"
      ]
     },
     "execution_count": 33,
     "metadata": {},
     "output_type": "execute_result"
    }
   ],
   "source": [
    "# Dot Product\n",
    "\n",
    "v1 = np.array([4,5,6,2])\n",
    "v2 = np.array([[-4],[3],[4],[1]])\n",
    "\n",
    "v1\n",
    "v2\n",
    "v3= np.dot(v1,v2)\n",
    "v3"
   ]
  },
  {
   "cell_type": "code",
   "execution_count": 34,
   "id": "1ac96778",
   "metadata": {},
   "outputs": [
    {
     "data": {
      "text/plain": [
       "32"
      ]
     },
     "execution_count": 34,
     "metadata": {},
     "output_type": "execute_result"
    }
   ],
   "source": [
    "v4 = np.array([1,2,3])\n",
    "v5 = np.array([4,5,6])\n",
    "np.dot(v4,v5)"
   ]
  },
  {
   "cell_type": "code",
   "execution_count": 35,
   "id": "3be42fd2",
   "metadata": {},
   "outputs": [],
   "source": [
    "###################################"
   ]
  },
  {
   "cell_type": "code",
   "execution_count": 36,
   "id": "19a7d052",
   "metadata": {},
   "outputs": [
    {
     "data": {
      "text/plain": [
       "array([[1., 0., 0., 0.],\n",
       "       [0., 1., 0., 0.],\n",
       "       [0., 0., 1., 0.],\n",
       "       [0., 0., 0., 1.]])"
      ]
     },
     "execution_count": 36,
     "metadata": {},
     "output_type": "execute_result"
    }
   ],
   "source": [
    "# matrix\n",
    "\n",
    "# identity matrix\n",
    "np.eye(4)\n"
   ]
  },
  {
   "cell_type": "code",
   "execution_count": 37,
   "id": "70ccbda5",
   "metadata": {},
   "outputs": [
    {
     "data": {
      "text/plain": [
       "array([[0., 0., 0., 0.],\n",
       "       [0., 0., 0., 0.],\n",
       "       [0., 0., 0., 0.]])"
      ]
     },
     "execution_count": 37,
     "metadata": {},
     "output_type": "execute_result"
    }
   ],
   "source": [
    "np.zeros((3,4))"
   ]
  },
  {
   "cell_type": "code",
   "execution_count": 39,
   "id": "1a0d013b",
   "metadata": {},
   "outputs": [
    {
     "data": {
      "text/plain": [
       "array([[10, 10, 10, 10],\n",
       "       [10, 10, 10, 10],\n",
       "       [10, 10, 10, 10],\n",
       "       [10, 10, 10, 10],\n",
       "       [10, 10, 10, 10]])"
      ]
     },
     "execution_count": 39,
     "metadata": {},
     "output_type": "execute_result"
    }
   ],
   "source": [
    "np.full((5,4),10)"
   ]
  },
  {
   "cell_type": "code",
   "execution_count": 40,
   "id": "4b0adf8b",
   "metadata": {},
   "outputs": [],
   "source": [
    "M = np.array([[1,2,3],\n",
    "              [4,5,6],\n",
    "              [7,89,9]])"
   ]
  },
  {
   "cell_type": "code",
   "execution_count": 41,
   "id": "6c1e22de",
   "metadata": {},
   "outputs": [
    {
     "data": {
      "text/plain": [
       "array([[ 1,  2,  3],\n",
       "       [ 4,  5,  6],\n",
       "       [ 7, 89,  9]])"
      ]
     },
     "execution_count": 41,
     "metadata": {},
     "output_type": "execute_result"
    }
   ],
   "source": [
    "M"
   ]
  },
  {
   "cell_type": "code",
   "execution_count": 42,
   "id": "81c358c7",
   "metadata": {},
   "outputs": [
    {
     "name": "stdout",
     "output_type": "stream",
     "text": [
      "[1 2 3]\n",
      "[1 2 3]\n"
     ]
    }
   ],
   "source": [
    "##################################\n",
    "# Transpose Matrix\n",
    "\n",
    "v1 = np.array([1,2,3])\n",
    "    \n",
    "print(v1)\n",
    "print(v1.T)\n"
   ]
  },
  {
   "cell_type": "code",
   "execution_count": 46,
   "id": "35e1e4a0",
   "metadata": {},
   "outputs": [
    {
     "name": "stdout",
     "output_type": "stream",
     "text": [
      "[[1 2 3]]\n",
      "[[1]\n",
      " [2]\n",
      " [3]]\n"
     ]
    }
   ],
   "source": [
    "v1 = np.array([1,2,3],ndmin=2)\n",
    "    \n",
    "print(v1)\n",
    "print(v1.T)"
   ]
  },
  {
   "cell_type": "code",
   "execution_count": 47,
   "id": "8d5007ea",
   "metadata": {},
   "outputs": [
    {
     "data": {
      "text/plain": [
       "array([[-0.16390601,  0.32746277, -0.95710369],\n",
       "       [ 1.65824034, -1.27611028,  0.96227106],\n",
       "       [ 1.15907383, -1.35877222,  2.10878888]])"
      ]
     },
     "execution_count": 47,
     "metadata": {},
     "output_type": "execute_result"
    }
   ],
   "source": [
    "M = np.random.randn(3,3)\n",
    "M"
   ]
  },
  {
   "cell_type": "code",
   "execution_count": 48,
   "id": "394c7080",
   "metadata": {},
   "outputs": [
    {
     "name": "stdout",
     "output_type": "stream",
     "text": [
      "[[-0.16390601  1.65824034  1.15907383]\n",
      " [ 0.32746277 -1.27611028 -1.35877222]\n",
      " [-0.95710369  0.96227106  2.10878888]]\n"
     ]
    }
   ],
   "source": [
    "print(M.T)"
   ]
  },
  {
   "cell_type": "code",
   "execution_count": 49,
   "id": "d4bb600d",
   "metadata": {},
   "outputs": [],
   "source": [
    "####################################"
   ]
  },
  {
   "cell_type": "code",
   "execution_count": 52,
   "id": "41f7bf7f",
   "metadata": {},
   "outputs": [
    {
     "name": "stdout",
     "output_type": "stream",
     "text": [
      "[[-0.05662034 -1.09906232 -1.53667532 -0.5397476 ]\n",
      " [-0.27796394 -0.6007876  -2.27232534 -2.4203227 ]\n",
      " [ 2.47148621  3.77183172  1.90244902  4.37368686]\n",
      " [-0.36098112 -1.82384084 -1.22417644 -1.02869563]]\n",
      " \n",
      "[[ 0.43964789 -2.05135889 -0.96162675  0.02942116 -2.04688279]\n",
      " [ 2.46080245 -0.79256287 -2.6705774  -0.82958286  0.95412278]\n",
      " [ 0.89588229  1.21900578  0.11816841 -0.21642378  1.05363934]\n",
      " [ 1.41680931  1.34433246  1.45947768 -0.02744849 -0.6935276 ]\n",
      " [-0.08238847 -0.31500501 -0.29415184 -0.25408789  0.47854051]]\n"
     ]
    }
   ],
   "source": [
    "# Multiply two matrix\n",
    "\n",
    "M1 = np.random.randn(4,5)\n",
    "M2 = np.random.randn(4,5)\n",
    "\n",
    "print(np.matmul(M1,M2.T))\n",
    "print(\" \")\n",
    "print(np.matmul(M1.T,M2))"
   ]
  },
  {
   "cell_type": "code",
   "execution_count": 53,
   "id": "31d57159",
   "metadata": {},
   "outputs": [
    {
     "name": "stdout",
     "output_type": "stream",
     "text": [
      "[[-0.05662034 -1.09906232 -1.53667532 -0.5397476 ]\n",
      " [-0.27796394 -0.6007876  -2.27232534 -2.4203227 ]\n",
      " [ 2.47148621  3.77183172  1.90244902  4.37368686]\n",
      " [-0.36098112 -1.82384084 -1.22417644 -1.02869563]]\n"
     ]
    }
   ],
   "source": [
    "print(M1@M2.T)"
   ]
  },
  {
   "cell_type": "code",
   "execution_count": 54,
   "id": "a7400645",
   "metadata": {},
   "outputs": [
    {
     "name": "stdout",
     "output_type": "stream",
     "text": [
      "[[-2.00668877 -1.24423628 -0.41790845 -0.43179324]\n",
      " [-0.40995556  0.95753814 -1.78491448 -1.37754852]\n",
      " [-0.51901157 -1.24297633 -1.26098194 -0.59963399]\n",
      " [-0.98917957  1.38635238  0.95935604 -1.84432378]]\n",
      " \n",
      "[[-0.67615613 -0.226691    0.63672517  0.12060542]\n",
      " [ 0.1661705   0.43802178 -0.76449312 -0.11751272]\n",
      " [-0.09407397 -0.44321746  0.10753361  0.31810752]\n",
      " [ 0.43862161  0.22029066 -0.8602228  -0.52975301]]\n"
     ]
    }
   ],
   "source": [
    "######################################\n",
    "# Inverse of Matrix\n",
    "\n",
    "A = np.random.randn(4,4)\n",
    "A_inv = np.linalg.inv(A)\n",
    "print(A)\n",
    "print(\" \")\n",
    "print(A_inv)"
   ]
  },
  {
   "cell_type": "code",
   "execution_count": 55,
   "id": "56a9078a",
   "metadata": {},
   "outputs": [
    {
     "name": "stdout",
     "output_type": "stream",
     "text": [
      "[[ 1.00000000e+00  7.49535293e-18 -5.06723159e-17 -3.70061039e-17]\n",
      " [ 3.13988681e-17  1.00000000e+00  5.70354344e-17  1.26777598e-16]\n",
      " [-5.88961776e-17 -4.74434113e-17  1.00000000e+00  1.70280917e-16]\n",
      " [ 1.90214113e-16  5.24480034e-17 -3.76292916e-17  1.00000000e+00]]\n"
     ]
    }
   ],
   "source": [
    "A_inv_A = A@A_inv\n",
    "print(A_inv_A)"
   ]
  },
  {
   "cell_type": "code",
   "execution_count": 56,
   "id": "14c9f5e9",
   "metadata": {},
   "outputs": [
    {
     "data": {
      "image/png": "[encoded data removed]",
      "text/plain": [
       "<Figure size 432x360 with 3 Axes>"
      ]
     },
     "metadata": {
      "needs_background": "light"
     },
     "output_type": "display_data"
    }
   ],
   "source": [
    "fig,ax = plt.subplots(1,3,figsize=(6,5))\n",
    "ax[0].imshow(A)\n",
    "ax[0].set_title(\"A\")\n",
    "ax[1].imshow(A_inv)\n",
    "ax[1].set_title(\"A$^{-1}$\") #latex\n",
    "ax[2].set_title(\"I\")\n",
    "ax[2].imshow(A_inv_A)\n",
    "plt.show()"
   ]
  },
  {
   "cell_type": "code",
   "execution_count": null,
   "id": "ee07cf15",
   "metadata": {},
   "outputs": [],
   "source": []
  }
 ],
 "metadata": {
  "kernelspec": {
   "display_name": "Python 3",
   "language": "python",
   "name": "python3"
  },
  "language_info": {
   "codemirror_mode": {
    "name": "ipython",
    "version": 3
   },
   "file_extension": ".py",
   "mimetype": "text/x-python",
   "name": "python",
   "nbconvert_exporter": "python",
   "pygments_lexer": "ipython3",
   "version": "3.8.8"
  }
 },
 "nbformat": 4,
 "nbformat_minor": 5
}
