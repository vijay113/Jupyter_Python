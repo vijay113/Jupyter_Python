{
 "cells": [
  {
   "cell_type": "code",
   "execution_count": 1,
   "id": "0c527235",
   "metadata": {},
   "outputs": [
    {
     "name": "stdout",
     "output_type": "stream",
     "text": [
      "A\n"
     ]
    }
   ],
   "source": [
    "print(\"A\")"
   ]
  },
  {
   "cell_type": "code",
   "execution_count": 25,
   "id": "deb84b87",
   "metadata": {},
   "outputs": [],
   "source": [
    "import tensorflow as tf\n",
    "import pandas as pd"
   ]
  },
  {
   "cell_type": "code",
   "execution_count": 3,
   "id": "a1200ce7",
   "metadata": {},
   "outputs": [
    {
     "name": "stdout",
     "output_type": "stream",
     "text": [
      "Your Tensor flow version: 2.6.0\n"
     ]
    }
   ],
   "source": [
    "print((\"Your Tensor flow version: {0}\").format(tf.__version__))"
   ]
  },
  {
   "cell_type": "code",
   "execution_count": 4,
   "id": "20841666",
   "metadata": {},
   "outputs": [
    {
     "data": {
      "text/plain": [
       "<tf.Tensor: shape=(2, 2), dtype=int32, numpy=\n",
       "array([[1, 2],\n",
       "       [3, 4]])>"
      ]
     },
     "execution_count": 4,
     "metadata": {},
     "output_type": "execute_result"
    }
   ],
   "source": [
    "A = tf.constant([[1,2],[3,4]])\n",
    "A"
   ]
  },
  {
   "cell_type": "code",
   "execution_count": 5,
   "id": "a9b23620",
   "metadata": {},
   "outputs": [
    {
     "data": {
      "text/plain": [
       "<tf.Variable 'Variable:0' shape=(2, 2) dtype=int32, numpy=\n",
       "array([[1, 2],\n",
       "       [3, 4]])>"
      ]
     },
     "execution_count": 5,
     "metadata": {},
     "output_type": "execute_result"
    }
   ],
   "source": [
    "B = tf.Variable([[1,2],[3,4]])\n",
    "B"
   ]
  },
  {
   "cell_type": "code",
   "execution_count": 6,
   "id": "e5d275ad",
   "metadata": {},
   "outputs": [
    {
     "data": {
      "text/plain": [
       "<tf.Tensor: shape=(2, 4), dtype=int32, numpy=\n",
       "array([[1, 2, 1, 2],\n",
       "       [3, 4, 3, 4]])>"
      ]
     },
     "execution_count": 6,
     "metadata": {},
     "output_type": "execute_result"
    }
   ],
   "source": [
    "AB_Concatenated = tf.concat(values = [A,B],axis = 1)\n",
    "AB_Concatenated"
   ]
  },
  {
   "cell_type": "code",
   "execution_count": 7,
   "id": "e38fe488",
   "metadata": {},
   "outputs": [
    {
     "data": {
      "text/plain": [
       "<tf.Tensor: shape=(4, 2), dtype=int32, numpy=\n",
       "array([[1, 2],\n",
       "       [3, 4],\n",
       "       [1, 2],\n",
       "       [3, 4]])>"
      ]
     },
     "execution_count": 7,
     "metadata": {},
     "output_type": "execute_result"
    }
   ],
   "source": [
    "AB_Concatenated_1 = tf.concat(values = [A,B],axis = 0)\n",
    "AB_Concatenated_1"
   ]
  },
  {
   "cell_type": "code",
   "execution_count": 8,
   "id": "d47997e2",
   "metadata": {},
   "outputs": [
    {
     "data": {
      "text/plain": [
       "<tf.Tensor: shape=(3, 4), dtype=int32, numpy=\n",
       "array([[0, 0, 0, 0],\n",
       "       [0, 0, 0, 0],\n",
       "       [0, 0, 0, 0]])>"
      ]
     },
     "execution_count": 8,
     "metadata": {},
     "output_type": "execute_result"
    }
   ],
   "source": [
    "tensor = tf.zeros(shape=[3,4],dtype = tf.int32)\n",
    "tensor"
   ]
  },
  {
   "cell_type": "code",
   "execution_count": 9,
   "id": "ca9e369f",
   "metadata": {},
   "outputs": [
    {
     "data": {
      "text/plain": [
       "<tf.Tensor: shape=(3, 4), dtype=int32, numpy=\n",
       "array([[1, 1, 1, 1],\n",
       "       [1, 1, 1, 1],\n",
       "       [1, 1, 1, 1]])>"
      ]
     },
     "execution_count": 9,
     "metadata": {},
     "output_type": "execute_result"
    }
   ],
   "source": [
    "tensor_1 = tf.ones(shape=[3,4],dtype = tf.int32)\n",
    "tensor_1"
   ]
  },
  {
   "cell_type": "code",
   "execution_count": 10,
   "id": "18e4c939",
   "metadata": {},
   "outputs": [
    {
     "data": {
      "text/plain": [
       "<tf.Tensor: shape=(3, 4), dtype=float32, numpy=\n",
       "array([[1., 1., 1., 1.],\n",
       "       [1., 1., 1., 1.],\n",
       "       [1., 1., 1., 1.]], dtype=float32)>"
      ]
     },
     "execution_count": 10,
     "metadata": {},
     "output_type": "execute_result"
    }
   ],
   "source": [
    "tensor_1 = tf.ones(shape=[3,4],dtype = tf.float32)\n",
    "tensor_1"
   ]
  },
  {
   "cell_type": "code",
   "execution_count": 11,
   "id": "d0d49729",
   "metadata": {},
   "outputs": [
    {
     "data": {
      "text/plain": [
       "<tf.Tensor: shape=(4, 3), dtype=float32, numpy=\n",
       "array([[1., 1., 1.],\n",
       "       [1., 1., 1.],\n",
       "       [1., 1., 1.],\n",
       "       [1., 1., 1.]], dtype=float32)>"
      ]
     },
     "execution_count": 11,
     "metadata": {},
     "output_type": "execute_result"
    }
   ],
   "source": [
    "reshaped_tensor = tf.reshape(tensor = tensor_1, shape = [4,3])\n",
    "reshaped_tensor"
   ]
  },
  {
   "cell_type": "code",
   "execution_count": 12,
   "id": "afd09ff8",
   "metadata": {},
   "outputs": [
    {
     "data": {
      "text/plain": [
       "<tf.Tensor: shape=(3, 4), dtype=float32, numpy=\n",
       "array([[0.6301898 , 0.49578655, 0.61417174, 0.38227022],\n",
       "       [0.81323564, 0.66888857, 0.98950124, 0.46218598],\n",
       "       [0.13209093, 0.09898376, 0.78129244, 0.20528436]], dtype=float32)>"
      ]
     },
     "execution_count": 12,
     "metadata": {},
     "output_type": "execute_result"
    }
   ],
   "source": [
    "D = tf.random.uniform(shape=[3,4])\n",
    "D"
   ]
  },
  {
   "cell_type": "code",
   "execution_count": 13,
   "id": "4189f03c",
   "metadata": {},
   "outputs": [
    {
     "data": {
      "text/plain": [
       "<tf.Tensor: shape=(4, 3), dtype=float32, numpy=\n",
       "array([[0.6301898 , 0.49578655, 0.61417174],\n",
       "       [0.38227022, 0.81323564, 0.66888857],\n",
       "       [0.98950124, 0.46218598, 0.13209093],\n",
       "       [0.09898376, 0.78129244, 0.20528436]], dtype=float32)>"
      ]
     },
     "execution_count": 13,
     "metadata": {},
     "output_type": "execute_result"
    }
   ],
   "source": [
    "reshaped_D = tf.reshape(tensor = D, shape = [4,3])\n",
    "reshaped_D"
   ]
  },
  {
   "cell_type": "code",
   "execution_count": 14,
   "id": "16f72338",
   "metadata": {},
   "outputs": [
    {
     "name": "stdout",
     "output_type": "stream",
     "text": [
      "tf.Tensor(\n",
      "[[0.6301898  0.49578655 0.61417174 0.38227022]\n",
      " [0.81323564 0.66888857 0.98950124 0.46218598]\n",
      " [0.13209093 0.09898376 0.78129244 0.20528436]], shape=(3, 4), dtype=float32)\n",
      "tf.Tensor(\n",
      "[[0 0 0 0]\n",
      " [0 0 0 0]\n",
      " [0 0 0 0]], shape=(3, 4), dtype=int32)\n"
     ]
    }
   ],
   "source": [
    "# type-cast \n",
    "D_int = tf.cast(D,tf.int32)\n",
    "print(D)\n",
    "print(D_int)"
   ]
  },
  {
   "cell_type": "code",
   "execution_count": 15,
   "id": "25e2dc8c",
   "metadata": {},
   "outputs": [
    {
     "data": {
      "text/plain": [
       "<tf.Tensor: shape=(4, 3), dtype=float32, numpy=\n",
       "array([[0.6301898 , 0.81323564, 0.13209093],\n",
       "       [0.49578655, 0.66888857, 0.09898376],\n",
       "       [0.61417174, 0.98950124, 0.78129244],\n",
       "       [0.38227022, 0.46218598, 0.20528436]], dtype=float32)>"
      ]
     },
     "execution_count": 15,
     "metadata": {},
     "output_type": "execute_result"
    }
   ],
   "source": [
    "a = tf.transpose(D)\n",
    "a"
   ]
  },
  {
   "cell_type": "code",
   "execution_count": 19,
   "id": "c1023052",
   "metadata": {},
   "outputs": [
    {
     "data": {
      "text/plain": [
       "<tf.Tensor: shape=(2, 1), dtype=int32, numpy=\n",
       "array([[36],\n",
       "       [30]])>"
      ]
     },
     "execution_count": 19,
     "metadata": {},
     "output_type": "execute_result"
    }
   ],
   "source": [
    "# matrix multiplication\n",
    "R = tf.constant([[5,8],[3,9]])\n",
    "S = tf.constant([[4],[2]])\n",
    "R_X_S = tf.matmul(R,S)\n",
    "R_X_S"
   ]
  },
  {
   "cell_type": "code",
   "execution_count": 21,
   "id": "67e2add0",
   "metadata": {},
   "outputs": [
    {
     "data": {
      "text/plain": [
       "<tf.Tensor: shape=(2, 2), dtype=int32, numpy=\n",
       "array([[20, 32],\n",
       "       [ 6, 18]])>"
      ]
     },
     "execution_count": 21,
     "metadata": {},
     "output_type": "execute_result"
    }
   ],
   "source": [
    "# Element-wise multiply\n",
    "R_S = tf.multiply(R,S)\n",
    "R_S"
   ]
  },
  {
   "cell_type": "code",
   "execution_count": 32,
   "id": "e9fb8afc",
   "metadata": {},
   "outputs": [
    {
     "name": "stdout",
     "output_type": "stream",
     "text": [
      "row: 3 columns: 2\n"
     ]
    },
    {
     "data": {
      "text/plain": [
       "<tf.Tensor: shape=(3, 2), dtype=int32, numpy=\n",
       "array([[1, 0],\n",
       "       [0, 1],\n",
       "       [0, 0]])>"
      ]
     },
     "execution_count": 32,
     "metadata": {},
     "output_type": "execute_result"
    }
   ],
   "source": [
    "# Identity Matrix\n",
    "T = tf.constant([[4,9],[5,6],[1,8]])\n",
    "rows, columns = T.shape\n",
    "print(\"row:\",rows,\"columns:\",columns)\n",
    "Identity_T = tf.eye(num_rows = rows,num_columns = columns, dtype= tf.int32)\n",
    "\n",
    "Identity_T"
   ]
  },
  {
   "cell_type": "code",
   "execution_count": 35,
   "id": "44af1a0a",
   "metadata": {},
   "outputs": [],
   "source": [
    "# Import The Important Libraries\n",
    "\n",
    "import datetime, warnings, scipy\n",
    "import pandas as pd\n",
    "import numpy as np\n",
    "import seaborn as sns\n",
    "import matplotlib as mpl\n",
    "import matplotlib.pyplot as plt\n",
    "plt.rcParams[\"patch.force_edgecolor\"]=True\n",
    "plt.style.use(\"fivethirtyeight\")\n",
    "mpl.rc(\"patch\",edgecolor = \"dimgray\", linewidth = 1)\n",
    "from IPython.core.interactiveshell import InteractiveShell\n",
    "InteractiveShell.ast_node_interactivity = \"last_expr\"\n",
    "pd.options.display.max_columns = 50\n",
    "%matplotlib inline\n",
    "warnings.filterwarnings(\"ignore\")\n"
   ]
  },
  {
   "cell_type": "code",
   "execution_count": 37,
   "id": "4b2a7ff3",
   "metadata": {},
   "outputs": [],
   "source": [
    "import math\n",
    "from keras.models import Sequential\n",
    "from keras.layers import Dense\n",
    "from keras.layers import LSTM\n",
    "from sklearn.preprocessing import MinMaxScaler, StandardScaler\n",
    "from sklearn.metrics import mean_squared_error\n"
   ]
  },
  {
   "cell_type": "code",
   "execution_count": null,
   "id": "9ca3d220",
   "metadata": {},
   "outputs": [],
   "source": [
    "print(\"Testing\")"
   ]
  },
  {
   "cell_type": "code",
   "execution_count": null,
   "id": "56b962d3",
   "metadata": {},
   "outputs": [],
   "source": []
  }
 ],
 "metadata": {
  "kernelspec": {
   "display_name": "Python 3",
   "language": "python",
   "name": "python3"
  },
  "language_info": {
   "codemirror_mode": {
    "name": "ipython",
    "version": 3
   },
   "file_extension": ".py",
   "mimetype": "text/x-python",
   "name": "python",
   "nbconvert_exporter": "python",
   "pygments_lexer": "ipython3",
   "version": "3.8.8"
  }
 },
 "nbformat": 4,
 "nbformat_minor": 5
}
