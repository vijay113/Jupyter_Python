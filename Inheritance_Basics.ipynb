{
 "cells": [
  {
   "cell_type": "code",
   "execution_count": 1,
   "id": "9ecffd04",
   "metadata": {},
   "outputs": [
    {
     "name": "stdout",
     "output_type": "stream",
     "text": [
      "Inheritance\n"
     ]
    }
   ],
   "source": [
    "print(\"Inheritance\")"
   ]
  },
  {
   "cell_type": "code",
   "execution_count": 4,
   "id": "6bef7849",
   "metadata": {},
   "outputs": [
    {
     "name": "stdout",
     "output_type": "stream",
     "text": [
      "Vijay False\n",
      "Ajay True\n"
     ]
    }
   ],
   "source": [
    "# Base Or Super Class\n",
    "\n",
    "class Person():\n",
    "    def __init__(self,name):\n",
    "        self.name = name\n",
    "        \n",
    "    def get_name(self):\n",
    "        return self.name\n",
    "    \n",
    "    def is_employee(self):\n",
    "        return False\n",
    "    \n",
    "\n",
    "class Employee(Person):\n",
    "    \n",
    "    def is_employee(self):\n",
    "        return True\n",
    "\n",
    "emp = Person(\"Vijay\")\n",
    "print(emp.get_name(), emp.is_employee())\n",
    "\n",
    "\n",
    "emp = Employee(\"Ajay\")\n",
    "print(emp.get_name(), emp.is_employee())\n"
   ]
  },
  {
   "cell_type": "code",
   "execution_count": 5,
   "id": "8faf51f5",
   "metadata": {},
   "outputs": [],
   "source": [
    "##############################################"
   ]
  },
  {
   "cell_type": "code",
   "execution_count": 8,
   "id": "ab3f7b3b",
   "metadata": {},
   "outputs": [
    {
     "name": "stdout",
     "output_type": "stream",
     "text": [
      "Rahul\n",
      "8888\n",
      "20000\n",
      "intern\n"
     ]
    }
   ],
   "source": [
    "# Calling Parent Constructors\n",
    "\n",
    "class Person():\n",
    "    def __init__(self,name,id_number):\n",
    "        self.name = name\n",
    "        self.id_number = id_number\n",
    "        \n",
    "    def display(self):\n",
    "        print(self.name)\n",
    "        print(self.id_number)\n",
    "        \n",
    "class Employee(Person):\n",
    "    def __init__(self,name,id_number,salary,post):\n",
    "        self.salary = salary\n",
    "        self.post = post\n",
    "        \n",
    "        Person.__init__(self,name,id_number)\n",
    "        \n",
    "    def display_salary_post(self):\n",
    "        print(self.salary)\n",
    "        print(self.post)\n",
    "        \n",
    "\n",
    "        \n",
    "a = Employee(\"Rahul\",8888, 20000,\"intern\")\n",
    "a.display()\n",
    "a.display_salary_post()"
   ]
  },
  {
   "cell_type": "code",
   "execution_count": 9,
   "id": "0bfe89fe",
   "metadata": {},
   "outputs": [],
   "source": [
    "###########################################"
   ]
  },
  {
   "cell_type": "code",
   "execution_count": 19,
   "id": "0bde5f2c",
   "metadata": {},
   "outputs": [
    {
     "name": "stdout",
     "output_type": "stream",
     "text": [
      "base1\n",
      "base2\n",
      "Derived\n",
      "base1 base2\n",
      "Derived Printed.\n"
     ]
    }
   ],
   "source": [
    "# Multiple Inheritance\n",
    "\n",
    "class Base1(object):\n",
    "    def __init__(self):\n",
    "        self.str1 = \"base1\"\n",
    "        print(\"base1\")\n",
    "\n",
    "        \n",
    "class Base2(object):\n",
    "    def __init__(self):\n",
    "        self.str2 = \"base2\"\n",
    "        print(\"base2\")\n",
    "        \n",
    "class Derived(Base1,Base2):\n",
    "    def __init__(self):\n",
    "        Base1.__init__(self)\n",
    "        Base2.__init__(self)\n",
    "        print(\"Derived\")\n",
    "        \n",
    "    def print_str(self):\n",
    "        print(self.str1,self.str2)\n",
    "        print(\"Derived Printed.\")\n",
    "        \n",
    "obj = Derived()\n",
    "obj.print_str()"
   ]
  },
  {
   "cell_type": "code",
   "execution_count": 20,
   "id": "d04eb1ca",
   "metadata": {},
   "outputs": [],
   "source": [
    "####################################"
   ]
  },
  {
   "cell_type": "code",
   "execution_count": 25,
   "id": "df40f909",
   "metadata": {},
   "outputs": [
    {
     "name": "stdout",
     "output_type": "stream",
     "text": [
      "vijay 23 Panipat\n",
      "vijay\n"
     ]
    }
   ],
   "source": [
    "# Multi level inheritance\n",
    "\n",
    "class Base():\n",
    "    def __init__(self,name):\n",
    "        self.name = name\n",
    "        \n",
    "    def get_name(self):\n",
    "        return self.name\n",
    "    \n",
    "class Child(Base):\n",
    "    def __init__(self,name,age):\n",
    "        self.age = age\n",
    "        Base.__init__(self,name)\n",
    "        \n",
    "    def get_age(self):\n",
    "        return self.age\n",
    "    \n",
    "class GrandChild(Child):\n",
    "    def __init__(self,name,age,address):\n",
    "        self.address = address\n",
    "        Base.__init__(self,name)\n",
    "        Child.__init__(self,name,age)\n",
    "        \n",
    "    def get_address(self):\n",
    "        return self.address\n",
    "    \n",
    "g = GrandChild(\"vijay\",23,\"Panipat\")\n",
    "print(g.get_name(), g.get_age(),g.get_address())\n",
    "print(g.name)        \n",
    "        "
   ]
  },
  {
   "cell_type": "code",
   "execution_count": 29,
   "id": "9c05ed77",
   "metadata": {},
   "outputs": [
    {
     "name": "stdout",
     "output_type": "stream",
     "text": [
      "GrandChild\n",
      "Base\n",
      "Child1\n",
      "Base\n",
      "Child2\n"
     ]
    }
   ],
   "source": [
    "# Multi level inheritance ==> Without Super Keyword\n",
    "\n",
    "class Base():\n",
    "    def __init__(self,name):\n",
    "        self.name = name\n",
    "        print(\"Base\")\n",
    "        \n",
    "    def get_name(self):\n",
    "        return self.name\n",
    "    \n",
    "class Child(Base):\n",
    "    def __init__(self,name,age):\n",
    "        self.age = age\n",
    "        print(\"Child1\")\n",
    "        Base.__init__(self,name)\n",
    "        print(\"Child2\")\n",
    "        \n",
    "    def get_age(self):\n",
    "        return self.age\n",
    "    \n",
    "class GrandChild(Child,Base):\n",
    "    def __init__(self,name,age,address):\n",
    "        self.address = address\n",
    "        print(\"GrandChild\")\n",
    "        Base.__init__(self,name)\n",
    "        Child.__init__(self,name,age)\n",
    "        \n",
    "    def get_address(self):\n",
    "        return self.address\n",
    "    \n",
    "g = GrandChild(\"vijay\",23,\"Panipat\")\n",
    "#print(g.get_name(), g.get_age(),g.get_address())\n",
    "#print(g.name)  "
   ]
  },
  {
   "cell_type": "code",
   "execution_count": 37,
   "id": "fa07da8f",
   "metadata": {},
   "outputs": [
    {
     "name": "stdout",
     "output_type": "stream",
     "text": [
      "GrandChild\n",
      "Child1\n",
      "Base\n",
      "Child2\n"
     ]
    }
   ],
   "source": [
    "# with Super Keyword\n",
    "\n",
    "class Base():\n",
    "    def __init__(self,name):\n",
    "        self.name = name\n",
    "        print(\"Base\")\n",
    "        \n",
    "    def get_name(self):\n",
    "        return self.name\n",
    "    \n",
    "class Child(Base):\n",
    "    def __init__(self,name,age):\n",
    "        self.age = age\n",
    "        print(\"Child1\")\n",
    "        super().__init__(name)\n",
    "        print(\"Child2\")\n",
    "        \n",
    "    def get_age(self):\n",
    "        return self.age\n",
    "    \n",
    "class GrandChild(Child,Base):\n",
    "    def __init__(self,name,age,address):\n",
    "        self.address = address\n",
    "        print(\"GrandChild\")        \n",
    "        super().__init__(name,age)\n",
    "        #Base().__init__(name)\n",
    "        \n",
    "    def get_address(self):\n",
    "        return self.address\n",
    "    \n",
    "g = GrandChild(\"vijay\",23,\"Panipat\")"
   ]
  },
  {
   "cell_type": "code",
   "execution_count": null,
   "id": "a66261e1",
   "metadata": {},
   "outputs": [],
   "source": []
  }
 ],
 "metadata": {
  "kernelspec": {
   "display_name": "Python 3",
   "language": "python",
   "name": "python3"
  },
  "language_info": {
   "codemirror_mode": {
    "name": "ipython",
    "version": 3
   },
   "file_extension": ".py",
   "mimetype": "text/x-python",
   "name": "python",
   "nbconvert_exporter": "python",
   "pygments_lexer": "ipython3",
   "version": "3.8.8"
  }
 },
 "nbformat": 4,
 "nbformat_minor": 5
}
