{
 "cells": [
  {
   "cell_type": "code",
   "execution_count": 1,
   "id": "a7d210e6",
   "metadata": {},
   "outputs": [],
   "source": [
    "#######################################\n",
    "#\n",
    "#     Probability\n",
    "#\n",
    "#######################################"
   ]
  },
  {
   "cell_type": "code",
   "execution_count": 3,
   "id": "5345b5c6",
   "metadata": {},
   "outputs": [
    {
     "name": "stdout",
     "output_type": "stream",
     "text": [
      "{4, 7}\n",
      "<class 'set'>\n"
     ]
    }
   ],
   "source": [
    "# create a set with curly bracket\n",
    "\n",
    "Set1 = {4,7}\n",
    "\n",
    "print(Set1)\n",
    "print(type(Set1))\n",
    "\n"
   ]
  },
  {
   "cell_type": "code",
   "execution_count": 4,
   "id": "dec219c7",
   "metadata": {},
   "outputs": [
    {
     "name": "stdout",
     "output_type": "stream",
     "text": [
      "Here is my set: {1, 2, 3, 4, 5}\n",
      "3 is in my set: True\n",
      "7 is in my set: False\n",
      "8 is not in my set: True\n"
     ]
    }
   ],
   "source": [
    "my_list = [1,2,3,4,5]\n",
    "\n",
    "my_set = set(my_list)\n",
    "\n",
    "print(\"Here is my set:\",my_set)\n",
    "print(\"3 is in my set:\",3 in my_set)\n",
    "print(\"7 is in my set:\",7 in my_set)\n",
    "print(\"8 is not in my set:\",8 not in my_set)"
   ]
  },
  {
   "cell_type": "code",
   "execution_count": 5,
   "id": "6c687eb6",
   "metadata": {},
   "outputs": [
    {
     "name": "stdout",
     "output_type": "stream",
     "text": [
      "A is set of all possible outcomes of a dice: {1, 2, 3, 4, 5, 6}\n",
      "B is set of all possible outcomes of a dice: {1, 2, 3, 4, 5, 6}\n",
      "\n",
      "Product of A and B is the all possible combinations of A and B thrown together:\n",
      " [(1, 1), (1, 2), (1, 3), (1, 4), (1, 5), (1, 6), (2, 1), (2, 2), (2, 3), (2, 4), (2, 5), (2, 6), (3, 1), (3, 2), (3, 3), (3, 4), (3, 5), (3, 6), (4, 1), (4, 2), (4, 3), (4, 4), (4, 5), (4, 6), (5, 1), (5, 2), (5, 3), (5, 4), (5, 5), (5, 6), (6, 1), (6, 2), (6, 3), (6, 4), (6, 5), (6, 6)]\n"
     ]
    }
   ],
   "source": [
    "# two dice\n",
    "\n",
    "from itertools import product as prod\n",
    "\n",
    "A = set( [x for x in range(1,7)])\n",
    "B = set([x for x in range(1,7)])\n",
    "p = list(prod(A,B))\n",
    "\n",
    "print(\"A is set of all possible outcomes of a dice:\",A)\n",
    "print(\"B is set of all possible outcomes of a dice:\",B)\n",
    "print(\"\\nProduct of A and B is the all possible combinations of A and B thrown together:\\n\",p)"
   ]
  },
  {
   "cell_type": "code",
   "execution_count": 8,
   "id": "58b29f9e",
   "metadata": {},
   "outputs": [
    {
     "data": {
      "text/plain": [
       "{(1, 1),\n",
       " (1, 2),\n",
       " (1, 3),\n",
       " (1, 4),\n",
       " (1, 5),\n",
       " (1, 6),\n",
       " (2, 1),\n",
       " (2, 2),\n",
       " (2, 3),\n",
       " (2, 4),\n",
       " (2, 5),\n",
       " (2, 6),\n",
       " (3, 1),\n",
       " (3, 2),\n",
       " (3, 3),\n",
       " (3, 4),\n",
       " (3, 5),\n",
       " (3, 6),\n",
       " (4, 1),\n",
       " (4, 2),\n",
       " (4, 3),\n",
       " (4, 4),\n",
       " (4, 5),\n",
       " (4, 6),\n",
       " (5, 1),\n",
       " (5, 2),\n",
       " (5, 3),\n",
       " (5, 4),\n",
       " (5, 5),\n",
       " (5, 6),\n",
       " (6, 1),\n",
       " (6, 2),\n",
       " (6, 3),\n",
       " (6, 4),\n",
       " (6, 5),\n",
       " (6, 6)}"
      ]
     },
     "execution_count": 8,
     "metadata": {},
     "output_type": "execute_result"
    }
   ],
   "source": [
    "# throwing 2 dice\n",
    "\n",
    "n_dice = 2\n",
    "dice_faces = {1,2,3,4,5,6}\n",
    "\n",
    "# Construct the event space i.e. set of all possible event\n",
    "event_space = set(prod(dice_faces,repeat=n_dice))\n",
    "event_space"
   ]
  },
  {
   "cell_type": "code",
   "execution_count": 9,
   "id": "18a082fc",
   "metadata": {},
   "outputs": [
    {
     "name": "stdout",
     "output_type": "stream",
     "text": [
      "36\n"
     ]
    }
   ],
   "source": [
    "print(len(event_space))"
   ]
  },
  {
   "cell_type": "code",
   "execution_count": 11,
   "id": "04a41059",
   "metadata": {},
   "outputs": [
    {
     "name": "stdout",
     "output_type": "stream",
     "text": [
      "(2, 4),(1, 2),(2, 1),(1, 5),(5, 4),(5, 1),(4, 2),(4, 5),(3, 3),(3, 6),(6, 6),(6, 3),\n",
      " 12\n"
     ]
    }
   ],
   "source": [
    "# Sum is a multiple of 3:-\n",
    "\n",
    "fav_outcomes = []\n",
    "for outcome in event_space:\n",
    "    x,y = outcome\n",
    "    if (x+y)%3==0:\n",
    "        fav_outcomes.append(outcome)\n",
    "fav_outcomes = set(fav_outcomes)\n",
    "\n",
    "for outcome in fav_outcomes:\n",
    "    print(outcome,end=\",\")\n",
    "    \n",
    "print(\"\\n\",len(fav_outcomes))"
   ]
  },
  {
   "cell_type": "code",
   "execution_count": 12,
   "id": "b0a6b5bd",
   "metadata": {},
   "outputs": [
    {
     "name": "stdout",
     "output_type": "stream",
     "text": [
      "The Probability of getting a sum which is multiple of 3 is: 0.3333333333333333\n"
     ]
    }
   ],
   "source": [
    "probability = len(fav_outcomes)/len(event_space)\n",
    "print(\"The Probability of getting a sum which is multiple of 3 is:\",probability)"
   ]
  },
  {
   "cell_type": "code",
   "execution_count": 13,
   "id": "02cacc9f",
   "metadata": {},
   "outputs": [],
   "source": [
    "##################### Thankyou #######################"
   ]
  },
  {
   "cell_type": "code",
   "execution_count": null,
   "id": "a8b6fb69",
   "metadata": {},
   "outputs": [],
   "source": []
  }
 ],
 "metadata": {
  "kernelspec": {
   "display_name": "Python 3",
   "language": "python",
   "name": "python3"
  },
  "language_info": {
   "codemirror_mode": {
    "name": "ipython",
    "version": 3
   },
   "file_extension": ".py",
   "mimetype": "text/x-python",
   "name": "python",
   "nbconvert_exporter": "python",
   "pygments_lexer": "ipython3",
   "version": "3.8.8"
  }
 },
 "nbformat": 4,
 "nbformat_minor": 5
}
