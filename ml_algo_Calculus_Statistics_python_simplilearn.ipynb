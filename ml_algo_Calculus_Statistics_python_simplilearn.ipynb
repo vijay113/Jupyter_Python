{
 "cells": [
  {
   "cell_type": "code",
   "execution_count": 1,
   "id": "019128a0",
   "metadata": {},
   "outputs": [],
   "source": [
    "###################################################\n",
    "#\n",
    "#    Calculus defferentiatiion  \n",
    "#\n",
    "#######################################################"
   ]
  },
  {
   "cell_type": "code",
   "execution_count": 2,
   "id": "3a919d17",
   "metadata": {},
   "outputs": [
    {
     "name": "stdout",
     "output_type": "stream",
     "text": [
      "iteration 1 \n",
      "X value is: 3.0\n",
      "iteration 2 \n",
      "X value is: 1.4\n",
      "iteration 3 \n",
      "X value is: 0.11999999999999966\n",
      "iteration 4 \n",
      "X value is: -0.9040000000000001\n",
      "iteration 5 \n",
      "X value is: -1.7232000000000003\n",
      "iteration 6 \n",
      "X value is: -2.3785600000000002\n",
      "iteration 7 \n",
      "X value is: -2.902848\n",
      "iteration 8 \n",
      "X value is: -3.3222784\n",
      "the local minimum occurs at -3.3222784\n"
     ]
    }
   ],
   "source": [
    "cur_x = 5    # the algo start with x = 3\n",
    "\n",
    "rate = 0.1  # learning rate\n",
    "\n",
    "precision = 0.5   # This tells us when to stop the algorithm\n",
    "\n",
    "previous_step_size = 1 \n",
    "max_iters = 1000000  # max number of iteration\n",
    "iters = 0  # iteration counter\n",
    "\n",
    "df = lambda x:2*(x+5)   # gradient of our function\n",
    "\n",
    "while previous_step_size > precision and iters < max_iters:\n",
    "    prev_x = cur_x   # store current x value in prev_x\n",
    "    cur_x = cur_x - rate * df(prev_x) #grad descent\n",
    "    previous_step_size = abs(cur_x - prev_x)  # change in x\n",
    "    iters = iters + 1   #iteration count\n",
    "    print(\"iteration\",iters,\"\\nX value is:\",cur_x)  #print iterations\n",
    "    \n",
    "print(\"the local minimum occurs at\",cur_x)\n"
   ]
  },
  {
   "cell_type": "code",
   "execution_count": 3,
   "id": "4e9e81a4",
   "metadata": {},
   "outputs": [],
   "source": [
    "############################################\n",
    "#\n",
    "#   Statistics \n",
    "#\n",
    "#######################################################"
   ]
  },
  {
   "cell_type": "code",
   "execution_count": 4,
   "id": "fca084cf",
   "metadata": {},
   "outputs": [
    {
     "name": "stdout",
     "output_type": "stream",
     "text": [
      "      Name  Salary\n",
      "0     Jane   50000\n",
      "1  Michael   54000\n",
      "2  William   50000\n",
      "3     Rosy  189000\n",
      "4     Hana   55000\n"
     ]
    }
   ],
   "source": [
    "import pandas as pd\n",
    "\n",
    "df = pd.DataFrame({\"Name\":[\"Jane\",\"Michael\",\"William\",\"Rosy\",\"Hana\",\"Ferdie\",\"Graem\"],\"Salary\":[50000,54000,50000,189000,55000,40000,59000]})\n",
    "\n",
    "print(df.head())"
   ]
  },
  {
   "cell_type": "code",
   "execution_count": 5,
   "id": "ca3fbc95",
   "metadata": {},
   "outputs": [
    {
     "name": "stdout",
     "output_type": "stream",
     "text": [
      "71000.0\n"
     ]
    }
   ],
   "source": [
    "# mean\n",
    "print(df[\"Salary\"].mean())"
   ]
  },
  {
   "cell_type": "code",
   "execution_count": 6,
   "id": "21596098",
   "metadata": {},
   "outputs": [
    {
     "name": "stdout",
     "output_type": "stream",
     "text": [
      "54000.0\n"
     ]
    }
   ],
   "source": [
    "# median\n",
    "print(df[\"Salary\"].median())"
   ]
  },
  {
   "cell_type": "code",
   "execution_count": 7,
   "id": "17a34547",
   "metadata": {},
   "outputs": [
    {
     "data": {
      "text/plain": [
       "0    50000\n",
       "dtype: int64"
      ]
     },
     "execution_count": 7,
     "metadata": {},
     "output_type": "execute_result"
    }
   ],
   "source": [
    "# mode\n",
    "df[\"Salary\"].mode()"
   ]
  },
  {
   "cell_type": "code",
   "execution_count": 8,
   "id": "47d56fd8",
   "metadata": {},
   "outputs": [
    {
     "data": {
      "text/plain": [
       "189000"
      ]
     },
     "execution_count": 8,
     "metadata": {},
     "output_type": "execute_result"
    }
   ],
   "source": [
    "# max\n",
    "df[\"Salary\"].max()"
   ]
  },
  {
   "cell_type": "code",
   "execution_count": 9,
   "id": "bc8beac8",
   "metadata": {},
   "outputs": [
    {
     "data": {
      "text/plain": [
       "40000"
      ]
     },
     "execution_count": 9,
     "metadata": {},
     "output_type": "execute_result"
    }
   ],
   "source": [
    "# min\n",
    "\n",
    "df[\"Salary\"].min()"
   ]
  },
  {
   "cell_type": "code",
   "execution_count": 10,
   "id": "e8fb97cc",
   "metadata": {},
   "outputs": [
    {
     "data": {
      "text/plain": [
       "149000"
      ]
     },
     "execution_count": 10,
     "metadata": {},
     "output_type": "execute_result"
    }
   ],
   "source": [
    "# range\n",
    "df[\"Salary\"].max() - df[\"Salary\"].min()\n"
   ]
  },
  {
   "cell_type": "code",
   "execution_count": 11,
   "id": "7b466b87",
   "metadata": {},
   "outputs": [
    {
     "data": {
      "text/plain": [
       "count         7.000000\n",
       "mean      71000.000000\n",
       "std       52370.475143\n",
       "min       40000.000000\n",
       "25%       50000.000000\n",
       "50%       54000.000000\n",
       "75%       57000.000000\n",
       "max      189000.000000\n",
       "Name: Salary, dtype: float64"
      ]
     },
     "execution_count": 11,
     "metadata": {},
     "output_type": "execute_result"
    }
   ],
   "source": [
    "df[\"Salary\"].describe()"
   ]
  },
  {
   "cell_type": "code",
   "execution_count": 12,
   "id": "2879d2cc",
   "metadata": {},
   "outputs": [
    {
     "data": {
      "image/png": "[encoded data removed]",
      "text/plain": [
       "<Figure size 432x288 with 1 Axes>"
      ]
     },
     "metadata": {
      "needs_background": "light"
     },
     "output_type": "display_data"
    }
   ],
   "source": [
    "# histogram of salaries\n",
    "\n",
    "import matplotlib.pyplot as plt\n",
    "\n",
    "%matplotlib inline\n",
    "\n",
    "salary = df[\"Salary\"]\n",
    "\n",
    "salary.plot.hist(title=\"Salary Distribution\",color=\"green\",bins = 25)\n",
    "plt.axvline(salary.mean(),color=\"violet\",linestyle=\"dashed\",linewidth=2)\n",
    "plt.axvline(salary.median(),color=\"red\",linestyle=\"dashed\",linewidth=2)\n",
    "plt.show()\n",
    "\n"
   ]
  },
  {
   "cell_type": "code",
   "execution_count": null,
   "id": "523e858d",
   "metadata": {},
   "outputs": [],
   "source": []
  }
 ],
 "metadata": {
  "kernelspec": {
   "display_name": "Python 3",
   "language": "python",
   "name": "python3"
  },
  "language_info": {
   "codemirror_mode": {
    "name": "ipython",
    "version": 3
   },
   "file_extension": ".py",
   "mimetype": "text/x-python",
   "name": "python",
   "nbconvert_exporter": "python",
   "pygments_lexer": "ipython3",
   "version": "3.8.8"
  }
 },
 "nbformat": 4,
 "nbformat_minor": 5
}
